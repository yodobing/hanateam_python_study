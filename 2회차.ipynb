{
  "nbformat": 4,
  "nbformat_minor": 0,
  "metadata": {
    "colab": {
      "name": "Untitled1.ipynb",
      "provenance": [],
      "authorship_tag": "ABX9TyPGcWmNJKPDrwQtZVSxoz6U",
      "include_colab_link": true
    },
    "kernelspec": {
      "name": "python3",
      "display_name": "Python 3"
    },
    "language_info": {
      "name": "python"
    }
  },
  "cells": [
    {
      "cell_type": "markdown",
      "metadata": {
        "id": "view-in-github",
        "colab_type": "text"
      },
      "source": [
        "<a href=\"https://colab.research.google.com/github/yodobing/hanateam_python_study/blob/main/2%ED%9A%8C%EC%B0%A8.ipynb\" target=\"_parent\"><img src=\"https://colab.research.google.com/assets/colab-badge.svg\" alt=\"Open In Colab\"/></a>"
      ]
    },
    {
      "cell_type": "markdown",
      "metadata": {
        "id": "e5dwPCEbWamJ"
      },
      "source": [
        "# 하나팀 기초 파이썬 스터디\n",
        "####[2021-05-17(월)]\n",
        "******\n"
      ]
    },
    {
      "cell_type": "code",
      "metadata": {
        "colab": {
          "base_uri": "https://localhost:8080/"
        },
        "id": "DOe86jKOWbHs",
        "outputId": "a94f608e-6de8-4bee-c8d5-8d704acc695e"
      },
      "source": [
        "x = 10\n",
        "y = 20\n",
        "z = 30\n",
        "print(x,\"+\",y,\"=\",z)\n",
        "\n"
      ],
      "execution_count": 28,
      "outputs": [
        {
          "output_type": "stream",
          "text": [
            "10 + 20 = 30\n"
          ],
          "name": "stdout"
        }
      ]
    },
    {
      "cell_type": "code",
      "metadata": {
        "id": "gp8q-DL4e5v-"
      },
      "source": [
        ""
      ],
      "execution_count": null,
      "outputs": []
    },
    {
      "cell_type": "markdown",
      "metadata": {
        "id": "oO2TCYA2i-z3"
      },
      "source": [
        "실수형 변수를 2개 선언한 후 각각에 80.5 22.34를 대입한 후 두 수의 합을 구하여 각각의 숫자를 10칸씩 오른쪽에 맞추어 소수 둘째자리까지 출력하는 프로그램을 작성하시오.\n"
      ]
    },
    {
      "cell_type": "code",
      "metadata": {
        "id": "Uo-LqbmVi_4r"
      },
      "source": [
        ""
      ],
      "execution_count": null,
      "outputs": []
    },
    {
      "cell_type": "code",
      "metadata": {
        "colab": {
          "base_uri": "https://localhost:8080/"
        },
        "id": "si73N63tjAhI",
        "outputId": "52796020-89c3-4e0f-e9f8-cfa82ba99fe4"
      },
      "source": [
        "x = float(80.50)\n",
        "y = float(22.34)\n",
        "print(\"%10.2f%10.2f%10.2f\"%(x,y,x+y))"
      ],
      "execution_count": 56,
      "outputs": [
        {
          "output_type": "stream",
          "text": [
            "     80.50      22.34     102.84\n"
          ],
          "name": "stdout"
        }
      ]
    },
    {
      "cell_type": "markdown",
      "metadata": {
        "id": "oSssZWtGpGtI"
      },
      "source": [
        "정수형 변수 한 개를 선언하여 50을 대입하고 실수형 변수 한 개를 선언하여 100.12를 대입한 후 다음과 같이 출력되는 프로그램을 작성하시오.\n",
        "\n",
        "(결과값은 소수점 이하에서 반올림) \n",
        "\n",
        "\n",
        "출력 예\n",
        "100.12 * 50 = 5006\n"
      ]
    },
    {
      "cell_type": "code",
      "metadata": {
        "colab": {
          "base_uri": "https://localhost:8080/"
        },
        "id": "6yFvEFAApHUp",
        "outputId": "f2a79782-4d6c-44a1-c12e-6bfac344a0be"
      },
      "source": [
        "x = int(50)\n",
        "y = float(100.12)\n",
        "print(\"%.2f * %.f = %.f\"%(y,x,x*y))"
      ],
      "execution_count": 64,
      "outputs": [
        {
          "output_type": "stream",
          "text": [
            "100.12 * 50 = 5006\n"
          ],
          "name": "stdout"
        }
      ]
    },
    {
      "cell_type": "markdown",
      "metadata": {
        "id": "obEqu2Vcq8e9"
      },
      "source": [
        "세 개의 정수를 입력받아 합과 평균을 출력하는 프로그램을 작성하시오.(단 평균은 소수 이하를 버림하여 정수 부분만 출력한다.)\n",
        "\n",
        "\n",
        "입력 예\n",
        "20 50 100\n",
        "출력 예\n",
        "sum = 170\n",
        "avg = 56\n",
        "\n",
        "Hint!\n",
        "\n",
        "정수를 정수로 나눈 몫은 소수 이하를 버린 정수가 된다.\n"
      ]
    },
    {
      "cell_type": "code",
      "metadata": {
        "colab": {
          "base_uri": "https://localhost:8080/"
        },
        "id": "t30NN7UxpVkf",
        "outputId": "6cadee5e-1b5a-44b7-bf22-27d7850bda8a"
      },
      "source": [
        "x,y,z = map(int,input().split()) #입력 받은 값을 자료형으로 바꿔주세요.\n",
        "sum = x + y + z\n",
        "print(\"sum = %d\"%(sum),end=\" \") # 출력은 end = \"\"\n",
        "print(\"avg = %.f\"%(sum//3))"
      ],
      "execution_count": 98,
      "outputs": [
        {
          "output_type": "stream",
          "text": [
            "20 50 100\n",
            "sum = 170 avg = 56\n"
          ],
          "name": "stdout"
        }
      ]
    },
    {
      "cell_type": "code",
      "metadata": {
        "id": "YfJ4fXoZrmTc"
      },
      "source": [
        "1"
      ],
      "execution_count": null,
      "outputs": []
    }
  ]
}