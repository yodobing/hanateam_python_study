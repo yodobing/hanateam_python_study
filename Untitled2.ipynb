{
  "nbformat": 4,
  "nbformat_minor": 0,
  "metadata": {
    "colab": {
      "name": "Untitled2.ipynb",
      "provenance": [],
      "authorship_tag": "ABX9TyNhxUIPHX/OX410qAwPC205",
      "include_colab_link": true
    },
    "kernelspec": {
      "name": "python3",
      "display_name": "Python 3"
    },
    "language_info": {
      "name": "python"
    }
  },
  "cells": [
    {
      "cell_type": "markdown",
      "metadata": {
        "id": "view-in-github",
        "colab_type": "text"
      },
      "source": [
        "<a href=\"https://colab.research.google.com/github/yodobing/hanateam_python_study/blob/main/Untitled2.ipynb\" target=\"_parent\"><img src=\"https://colab.research.google.com/assets/colab-badge.svg\" alt=\"Open In Colab\"/></a>"
      ]
    },
    {
      "cell_type": "code",
      "metadata": {
        "id": "ws0gK0c3ruOL"
      },
      "source": [
        "# 이름, 나이 , 학과로 구성된 1차원 배열을 만드시오\n",
        "\n",
        "\n",
        "# 3명의 사람의 이름 ,나이 , 학괄 구성된 2차원 배열을 만드시오"
      ],
      "execution_count": null,
      "outputs": []
    },
    {
      "cell_type": "code",
      "metadata": {
        "colab": {
          "base_uri": "https://localhost:8080/"
        },
        "id": "1KlzicFgr7Ga",
        "outputId": "093acc37-8916-461f-f15a-fba9dce87a6c"
      },
      "source": [
        "lys = ['이요섭', 24 ,'기계공학과']\n",
        "\n",
        "ccc = [['이요섭',24,'기계공학과'] ,\n",
        "       ['남혜빈',24,'소프트웨어공학과'],\n",
        "       ['이철현',23,'소프트웨어공학과']]\n",
        "\n",
        "print(lys[1])\n",
        "print(ccc[0][1])"
      ],
      "execution_count": 2,
      "outputs": [
        {
          "output_type": "stream",
          "text": [
            "24\n",
            "24\n"
          ],
          "name": "stdout"
        }
      ]
    },
    {
      "cell_type": "code",
      "metadata": {
        "colab": {
          "base_uri": "https://localhost:8080/"
        },
        "id": "Kd7Od5i4sspY",
        "outputId": "aa3a15cc-e891-4124-9823-099900a8735d"
      },
      "source": [
        "data_1_1 = [ [0 for i in range(3)] for j in range(2) ]\n",
        "print (data_1_1)"
      ],
      "execution_count": 4,
      "outputs": [
        {
          "output_type": "stream",
          "text": [
            "[[0, 0, 0], [0, 0, 0]]\n"
          ],
          "name": "stdout"
        }
      ]
    },
    {
      "cell_type": "code",
      "metadata": {
        "colab": {
          "base_uri": "https://localhost:8080/"
        },
        "id": "WY45woXF00JD",
        "outputId": "6068b4d8-a6fd-454a-ed5a-70c9f1e87e01"
      },
      "source": [
        "#A로 초기화 된 4X4 짜리 2차원 배열을 만드시오\n",
        "\n",
        "X = [['A' for i in range(4)] for j in range(4)]\n",
        "print(X)"
      ],
      "execution_count": 7,
      "outputs": [
        {
          "output_type": "stream",
          "text": [
            "[['A', 'A', 'A', 'A'], ['A', 'A', 'A', 'A'], ['A', 'A', 'A', 'A'], ['A', 'A', 'A', 'A']]\n"
          ],
          "name": "stdout"
        }
      ]
    },
    {
      "cell_type": "code",
      "metadata": {
        "colab": {
          "base_uri": "https://localhost:8080/"
        },
        "id": "KOcEXIHS1o9e",
        "outputId": "494b6d65-dabf-4a76-8fdf-775e53f090db"
      },
      "source": [
        "# append  함수를 사용해서 이름 나이 학번 성별 학년 기타등등을 적어서 자기소개리스트 만들기\n",
        "\n",
        "me =[]\n",
        "while (True):\n",
        "  data = input(\"정보를 입력하세요\")\n",
        "  if(data == \"end\"):break;\n",
        "  me.append(data)\n",
        "\n",
        "print(me)"
      ],
      "execution_count": 15,
      "outputs": [
        {
          "output_type": "stream",
          "text": [
            "정보를 입력하세요이요섭\n",
            "정보를 입력하세요24\n",
            "정보를 입력하세요남자\n",
            "정보를 입력하세요제천\n",
            "정보를 입력하세요end\n",
            "['이요섭', '24', '남자', '제천']\n"
          ],
          "name": "stdout"
        }
      ]
    },
    {
      "cell_type": "markdown",
      "metadata": {
        "id": "1pwan1h62U18"
      },
      "source": [
        ""
      ]
    }
  ]
}